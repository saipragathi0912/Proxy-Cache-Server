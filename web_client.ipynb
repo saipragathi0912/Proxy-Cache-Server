{
 "cells": [
  {
   "cell_type": "code",
   "execution_count": 2,
   "id": "267542c8",
   "metadata": {},
   "outputs": [
    {
     "name": "stdout",
     "output_type": "stream",
     "text": [
      "importing Jupyter notebook from http_util.ipynb\n",
      "importing Jupyter notebook from http_constants.ipynb\n",
      "['C:\\\\Users\\\\Abinaya_UB\\\\anaconda3\\\\lib\\\\site-packages\\\\ipykernel_launcher.py', '-f', 'C:\\\\Users\\\\Abinaya_UB\\\\AppData\\\\Roaming\\\\jupyter\\\\runtime\\\\kernel-fcd88d8e-46ad-4c21-9b71-5d0e8cfcf114.json'] 3\n",
      "Enter URL: \n",
      "cattheory.com\n",
      "Connected to socket\n",
      "Client received from proxy (showing 1st 300 bytes):  b'HTTP/1.1 200 OK\\r\\nServer: GitHub.com\\r\\nDate: Thu, 18 Nov 2021 16:30:46 GMT\\r\\nContent-Type: text/html; charset=utf-8\\r\\nContent-Length: 9575\\r\\nVary: Accept-Encoding\\r\\nLast-Modified: Tue, 11 May 2021 22:43:33 GMT\\r\\nVary: Accept-Encoding\\r\\nAccess-Control-Allow-Origin: *\\r\\nETag: \"609b0895-2567\"\\r\\nexpires: Thu, 18 Nov 2021 16:40:46 GMT\\r\\nCache-Control: max-age=600\\r\\nAccept-Ranges: bytes\\r\\nx-proxy-cache: MISS\\r\\nX-GitHub-Request-Id: CAA9:0ACF:98CB23:DA7ADE:61967FB6\\r\\nconnection: close\\r\\n\\r\\n<?xml version=\"1.0\" encoding=\"UTF-8\" ?>\\n<!DOCTYPE html PUBLIC \"-//W3C//DTD XHTML 1.0 Strict//EN\" \"http://www.w3.org/TR/xhtml1/DTD/xhtml1-strict.dtd\">\\n<html xmlns=\"http://www.w3.org/1999/xhtml\" xml:lang=\"en\" lang=\"en\">\\n  <head>\\n    <meta http-equiv=\"Content-Type\" content=\"text/html; charset=UTF-8\" />\\n    <meta name=\"viewport\" content=\"width=device-width\" />\\n    <title>Joomy Korkut - Recent Posts</title>\\n    <link rel=\"stylesheet\" type=\"text/css\" href=\"./css/base.css\" />\\n    <link rel=\"stylesheet\" type=\"text/css\" href=\"./css/layout.css\" />\\n    <link rel=\"stylesheet\" type=\"text/css\" href=\"./css/syntax.css\" />\\n    <link href=\"http://maxcdn.bootstrapcdn.com/font-awesome/4.2.0/css/font-awesome.min.css\" rel=\"stylesheet\">\\n    <link rel=\"icon\" href=\"./images/favicon.ico\">\\n    <link rel=\"alternate\" type=\"application/rss+xml\" title=\"cat theory blog\" href=\"http://cattheory.com/atom.xml\" />\\n    <meta name=\"keywords\" content=\"joomy,cumhur,korkut,cat,theory,category,programming,haskell,javascript,vim,turkish,politics,wesleyan,princeton\" />\\n    <meta name=\"description\" content=\"Joomy\\'s computer science blog.\" />\\n    <!-- Schema.org markup for Google+ -->\\n    <meta itemprop=\"name\" content=\"Joomy Korkut\">\\n    \\n      <meta itemprop=\"description\" content=\"Joomy\\'s computer science blog.\">\\n    \\n    <meta itemprop=\"image\" content=\"/images/icon.png\">\\n\\n    <!-- Open Graph data -->\\n    <meta property=\"og:title\" content=\"Recent Posts\" />\\n    <meta property=\"og:type\" content=\"article\" />\\n    <meta property=\"og:url\" content=\"http://cattheory.com/\" />\\n    <meta property=\"og:image\" content=\"http://cattheory.com/images/icon.png\" />\\n    \\n      <meta property=\"og:description\" content=\"Joomy\\'s computer science blog.\">\\n    \\n    <meta property=\"og:site_name\" content=\"Joomy Korkut\" />\\n    \\n  </head>\\n  <body>\\n    <div id=\"navigation\">\\n      <a href=\"./\"><h1>Joomy Korkut</h1></a>\\n      <a href=\"./\">Home</a>\\n      <a href=\"./archive.html\">Archive</a>\\n      <a href=\"http://www.cs.princeton.edu/~ckorkut/\" target=\"_blank\">Research</a>\\n      <!-- <a href=\"/turkce.html\" style=\"font-size:80%\">\\xf0\\x9f\\x87\\xb9\\xf0\\x9f\\x87\\xb7 T\\xc3\\xbcrk\\xc3\\xa7e</a> -->\\n      <div>\\n        <a alt=\"E-mail\" target=\"_blank\" href=\"mailto:joomy@cattheory.com\"><i class=\"fa fa-at\"></i></a>\\n        <a alt=\"Facebook\" target=\"_blank\" href=\"https://facebook.com/ckorkut\"><i class=\"fa fa-facebook\"></i></a>\\n        <a alt=\"Github\" target=\"_blank\" href=\"http://github.com/joom\"><i class=\"fa fa-github\"></i></a>\\n        <a alt=\"Twitter\" target=\"_blank\" href=\"http://twitter.com/cattheory\"><i class=\"fa fa-twitter\"></i></a>\\n        <a alt=\"Instagram\" target=\"_blank\" href=\"http://instagram.com/cattheory\"><i class=\"fa fa-instagram\"></i></a>\\n      </div>\\n      <div>\\n        <a alt=\"Google Calendar\" target=\"_blank\" href=\"https://calendar.google.com/calendar/embed?src=cumhurkorkut%40gmail.com&ctz=America%2FNew_York\"><i class=\"fa fa-calendar\"></i></a>\\n        <a alt=\"Linkedin\" target=\"_blank\" href=\"http://www.linkedin.com/in/joomykorkut/\"><i class=\"fa fa-linkedin-square\"></i></a>\\n        <a alt=\"Stack Overflow\" target=\"_blank\" href=\"https://stackoverflow.com/users/2016295/joomy-korkut\"><i class=\"fa fa-stack-overflow\"></i></a>\\n        <a alt=\"Last.fm\" target=\"_blank\" href=\"http://last.fm/user/cattheory\"><i class=\"fa fa-lastfm-square\"></i></a>\\n        <a alt=\"Spotify\" target=\"_blank\" href=\"https://open.spotify.com/user/12122900763\"><i class=\"fa fa-spotify\"></i></a>\\n      </div>\\n    </div>\\n\\n    <div id=\"content\">\\n      <img src=\"https://avatars2.githubusercontent.com/u/1611120?v=3&s=460\" class=\"photo\" />\\n<p>\\n  I\\'m <span class=\"tooltip\">Joomy<span class=\"tooltiptext\">A nickname for\\n      Cumhur, [d\\xcd\\xa1\\xca\\x92umhu\\xc9\\xbe\\xcc\\x9e\\xcc\\x8a] in Turkish IPA, <br>\"joom hoor\" in English\\n      approximation. <br><b>I prefer Joomy unless you speak Turkish.</b></span></span>\\n  Korkut,\\n  an <a href=\"http://www.cs.princeton.edu/~ckorkut/\" target=\"_blank\">aspiring academic</a> who is interested in\\n  programming language theory and linguistics. <a href=\"./joomy_cv.pdf\">My CV is here.</a>\\n</p><p>\\n  I am currently a PhD student at <a href=\"http://princeton.edu\">Princeton University</a>, advised by <a href=\"https://www.cs.princeton.edu/~appel/\">Andrew W. Appel</a>.\\n    My academic web page is <a href=\"http://www.cs.princeton.edu/~ckorkut/\">here</a>.\\n</p><p>\\n  Before this, I was an undergrad and then a master\\'s\\n  student at <a href=\"http://wesleyan.edu\">Wesleyan University</a>,\\n  advised by <a href=\"http://dlicata.web.wesleyan.edu/\">Dan Licata</a>.\\n  For my master\\'s research, I extended the editor features of\\n  <a href=\"https://www.idris-lang.org/\">Idris</a>, a dependently typed\\n  language and proof assistant, through metaprogramming. My goal was to\\n  produce a system in which one can use Idris metaprograms in the editor to\\n  write Idris code more easily, and even automatically.\\n  <a href=\"https://asciinema.org/a/rrwboxAr2VdiUQsZov0RDinJw\">Here\\'s a screencast that shows how it works</a>\\n  and <a href=\"./editTimeTacticsDraft.pdf\">here is my thesis</a>.\\n</p><p>\\n  In my free time, I play the accordion and\\n  <a href=\"https://www.youtube.com/watch?v=A4mfp19fzUE\">fretless</a>\\n  <a href=\"https://www.facebook.com/birolumben/videos/vb.748444625/10151004178889626/\">bass</a>, occasionally\\n  <a href=\"https://soundcloud.com/cattheory/tracks\">recite</a> and\\n  <a href=\"./posts/2014-11-30-turkish-poetry.html#the-list\">translate</a> poetry, and\\n  <a href=\"https://www.youtube.com/watch?v=9_dXeWDFSvQ\">sing</a>\\n  <a href=\"https://soundcloud.com/isinekin/ezginin-gunlugu-kedim-cover-cumhur-isin\">a bit</a>.\\n  Oh, and the Wesleyan newspaper <a href=\"http://wesleyanargus.com/2016/12/01/wesceleb-joomy-korkut-17/\">interviewed me</a> once.\\n</p>\\n\\n<p>You can reach me at <a href=\"mailto:joomy@cs.princeton.edu\">joomy@cs.princeton.edu</a>,\\nbut I\\'ll probably reply much faster on <a href=\"http://twitter.com/cattheory\">Twitter</a>.</p>\\n\\n<h1 style=\"clear: left\">Recent blog posts</h1>\\n\\n  <div class=\"post-title\">\\n    <a href=\"./posts/2018-09-30-icfp-2018.html\">Direct reflections from ICFP 2018</a>\\n  </div>\\n\\n  <div class=\"info\">\\n    Posted on September 30, 2018,\\n    \\n        by joomy,\\n    \\n    \\n      in: <a href=\"./tags/conference.html\">conference</a>, <a href=\"./tags/pl.html\">pl</a>, <a href=\"./tags/haskell.html\">haskell</a>, <a href=\"./tags/idris.html\">idris</a>\\n    \\n  </div>\\n\\n  <div class=\"post-body\">\\n    I spent a week at the main functional programming conference and got to talk to my heroes, so here are some reflections.\\n  </div>\\n  <hr>\\n\\n  <div class=\"post-title\">\\n    <a href=\"./posts/2017-11-18-diacritic-omission.html\">The diacritic omission phenomenon</a>\\n  </div>\\n\\n  <div class=\"info\">\\n    Posted on November 18, 2017,\\n    \\n        by joomy,\\n    \\n    \\n      in: <a href=\"./tags/language.html\">language</a>, <a href=\"./tags/turkish.html\">turkish</a>\\n    \\n  </div>\\n\\n  <div class=\"post-body\">\\n    Omitting the diacritics is a common phenomenon in languages such as Turkish and Serbo-Croatian. Then why isn\\'t there any research on this?\\n  </div>\\n  <hr>\\n\\n  <div class=\"post-title\">\\n    <a href=\"./posts/2017-11-14-scoped-implicit-conversions.html\">Scoped implicit conversions for Idris</a>\\n  </div>\\n\\n  <div class=\"info\">\\n    Posted on November 14, 2017,\\n    \\n        by joomy,\\n    \\n    \\n      in: <a href=\"./tags/idris.html\">idris</a>, <a href=\"./tags/proposal.html\">proposal</a>\\n    \\n  </div>\\n\\n  <div class=\"post-body\">\\n    The Idris community is not so fond of implicit conversions, I think they\\'re a useful and powerful tool that are easy to misuse. Here\\'s an idea to fix them.\\n  </div>\\n  <hr>\\n\\n\\n\\n<a type=\"application/rss+xml\" href=\"./atom.xml\">\\n  <i class=\"fa fa-rss-square\"></i> Feed</a>\\n| <a href=\"./archive.html\">All posts...</a>\\n<p class=\"tags\">\\n    Browse: <a href=\"./tags/conference.html\">conference (1)</a>, <a href=\"./tags/haskell.html\">haskell (5)</a>, <a href=\"./tags/idris.html\">idris (2)</a>, <a href=\"./tags/keyboard.html\">keyboard (1)</a>, <a href=\"./tags/language.html\">language (2)</a>, <a href=\"./tags/logic.html\">logic (1)</a>, <a href=\"./tags/mac.html\">mac (1)</a>, <a href=\"./tags/meta.html\">meta (1)</a>, <a href=\"./tags/pl.html\">pl (1)</a>, <a href=\"./tags/poetry.html\">poetry (1)</a>, <a href=\"./tags/programming.html\">programming (1)</a>, <a href=\"./tags/prolog.html\">prolog (1)</a>, <a href=\"./tags/proposal.html\">proposal (1)</a>, <a href=\"./tags/teaching.html\">teaching (1)</a>, <a href=\"./tags/translation.html\">translation (1)</a>, <a href=\"./tags/turkish.html\">turkish (2)</a>, <a href=\"./tags/tutorial.html\">tutorial (1)</a>, <a href=\"./tags/vim.html\">vim (1)</a>, <a href=\"./tags/wesleyan.html\">wesleyan (1)</a>\\n</p>\\n\\n\\n      <div style=\"clear: both\"></div>\\n\\n      <div id=\"footer\">\\n        Powered by\\n        <a target=\"_blank\" href=\"http://jaspervdj.be/hakyll\">Hakyll</a> and\\n        <a target=\"_blank\" href=\"http://johnmacfarlane.net/pandoc/\">Pandoc</a>.\\n        Blog source code is\\n        <a target=\"_blank\" href=\"http://github.com/cattheory/blog\">available</a>.\\n        <a target=\"_blank\" href=\"https://www.haskellers.com/user/3553\">\\n          <img src=\"https://www.haskellers.com/static/badge.png\" alt=\"I\\'m a Haskeller\">\\n        </a>\\n      </div>\\n    </div>\\n    <script>\\n      (function(i,s,o,g,r,a,m){i[\\'GoogleAnalyticsObject\\']=r;i[r]=i[r]||function(){\\n      (i[r].q=i[r].q||[]).push(arguments)},i[r].l=1*new Date();a=s.createElement(o),\\n      m=s.getElementsByTagName(o)[0];a.async=1;a.src=g;m.parentNode.insertBefore(a,m)\\n      })(window,document,\\'script\\',\\'//www.google-analytics.com/analytics.js\\',\\'ga\\');\\n      ga(\\'create\\', \\'UA-57012377-1\\', \\'auto\\');\\n      ga(\\'send\\', \\'pageview\\');\\n    </script>\\n  </body>\\n</html>\\n'\n"
     ]
    }
   ],
   "source": [
    "import binascii\n",
    "import socket\n",
    "import sys\n",
    "\n",
    "# Project modules\n",
    "import import_ipynb\n",
    "import http_util\n",
    "\n",
    "proxy_host = 'localhost'\n",
    "proxy_port = 50007\n",
    "url = str(input(\"Enter URL: \\n\"))\n",
    "\n",
    "proxy_sock = socket.socket(socket.AF_INET, socket.SOCK_STREAM)\n",
    "proxy_sock.connect((proxy_host, proxy_port))\n",
    "print(\"Connected to socket\")\n",
    "# Send requested URL to proxy\n",
    "str_url = url\n",
    "[hostname, pathname] = http_util.parse_url(str_url)\n",
    "str_req = http_util.create_http_req(hostname, pathname)\n",
    "bin_req = str_req.encode('utf-8')\n",
    "proxy_sock.sendall(bin_req)\n",
    "\n",
    "# Receive binary data from proxy\n",
    "bin_reply = b''\n",
    "while True:\n",
    "    more = proxy_sock.recv(4096)\n",
    "    if not more:\n",
    "        break\n",
    "    bin_reply += more\n",
    "print('Client received from proxy (showing 1st 300 bytes): ', bin_reply)\n",
    "# Close connection to proxy\n",
    "proxy_sock.close()\n",
    "\n",
    "# info.cern.ch\n",
    "# cattheory.com"
   ]
  },
  {
   "cell_type": "code",
   "execution_count": null,
   "id": "fa4db74e",
   "metadata": {},
   "outputs": [],
   "source": []
  },
  {
   "cell_type": "code",
   "execution_count": 5,
   "id": "808d8f75",
   "metadata": {},
   "outputs": [
    {
     "name": "stdout",
     "output_type": "stream",
     "text": [
      "['C:\\\\Users\\\\Abinaya_UB\\\\anaconda3\\\\lib\\\\site-packages\\\\ipykernel_launcher.py', '-f', 'C:\\\\Users\\\\Abinaya_UB\\\\AppData\\\\Roaming\\\\jupyter\\\\runtime\\\\kernel-fcd88d8e-46ad-4c21-9b71-5d0e8cfcf114.json'] 3\n",
      "Enter URL: \n",
      "http://info.cern.ch/\n",
      "Connected to socket\n",
      "Client received from proxy (showing 1st 300 bytes):  b'HTTP/1.1 200 OK\\r\\nDate: Thu, 18 Nov 2021 17:48:18 GMT\\r\\nServer: Apache\\r\\nLast-Modified: Wed, 05 Feb 2014 16:00:31 GMT\\r\\nETag: \"286-4f1aadb3105c0\"\\r\\nAccept-Ranges: bytes\\r\\nContent-Length: 646\\r\\nConnection: close\\r\\nContent-Type: text/html\\r\\n\\r\\n<html><head></head><body><header>\\n<title>http://info.cern.ch</title>\\n</header>\\n\\n<h1>http://info.cern.ch - home of the first website</h1>\\n<p>From here you can:</p>\\n<ul>\\n<li><a href=\"http://info.cern.ch/hypertext/WWW/TheProject.html\">Browse the first website</a></li>\\n<li><a href=\"http://line-mode.cern.ch/www/hypertext/WWW/TheProject.html\">Browse the first website using the line-mode browser simulator</a></li>\\n<li><a href=\"http://home.web.cern.ch/topics/birth-web\">Learn about the birth of the web</a></li>\\n<li><a href=\"http://home.web.cern.ch/about\">Learn about CERN, the physics laboratory where the web was born</a></li>\\n</ul>\\n</body></html>\\n'\n"
     ]
    }
   ],
   "source": [
    "import binascii\n",
    "import socket\n",
    "import sys\n",
    "\n",
    "# Project modules\n",
    "import import_ipynb\n",
    "import http_util\n",
    "\n",
    "proxy_host = 'localhost'\n",
    "proxy_port = 50007\n",
    "url = str(input(\"Enter URL: \\n\"))\n",
    "\n",
    "proxy_sock = socket.socket(socket.AF_INET, socket.SOCK_STREAM)\n",
    "proxy_sock.connect((proxy_host, proxy_port))\n",
    "print(\"Connected to socket\")\n",
    "\n",
    "# Send requested URL to proxy\n",
    "str_url = url\n",
    "[hostname, pathname] = http_util.parse_url(str_url)\n",
    "str_req = http_util.create_http_req(hostname, pathname)\n",
    "bin_req = str_req.encode('utf-8')\n",
    "proxy_sock.sendall(bin_req)\n",
    "\n",
    "# Receive binary data from proxy\n",
    "bin_reply = b''\n",
    "while True:\n",
    "    more = proxy_sock.recv(4096)\n",
    "    if not more:\n",
    "        break\n",
    "    bin_reply += more\n",
    "print('Client received from proxy (showing 1st 300 bytes): ', bin_reply)\n",
    "# Close connection to proxy\n",
    "proxy_sock.close()"
   ]
  },
  {
   "cell_type": "code",
   "execution_count": null,
   "id": "79a1ceb5",
   "metadata": {},
   "outputs": [],
   "source": []
  }
 ],
 "metadata": {
  "kernelspec": {
   "display_name": "Python 3",
   "language": "python",
   "name": "python3"
  },
  "language_info": {
   "codemirror_mode": {
    "name": "ipython",
    "version": 3
   },
   "file_extension": ".py",
   "mimetype": "text/x-python",
   "name": "python",
   "nbconvert_exporter": "python",
   "pygments_lexer": "ipython3",
   "version": "3.8.8"
  }
 },
 "nbformat": 4,
 "nbformat_minor": 5
}
