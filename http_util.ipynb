{
 "cells": [
  {
   "cell_type": "code",
   "execution_count": null,
   "id": "e15f2038",
   "metadata": {},
   "outputs": [],
   "source": [
    "def parse_url(url):\n",
    "\n",
    "    url_components = url.split('http://')\n",
    "    if len(url_components) > 1:\n",
    "        url = '/'.join(url_components[1:])\n",
    "\n",
    "    url_components = url.split('/')\n",
    "    hostname = url_components[0]\n",
    "    if len(url_components) == 1:\n",
    "        pathname = '/'\n",
    "    else:\n",
    "        pathname = '/' + '/'.join(url_components[1:])\n",
    "\n",
    "    return [hostname, pathname]\n",
    "\n",
    "def create_http_req(hostname, pathname):\n",
    "\n",
    "    # Create header lines\n",
    "    get = 'GET ' + pathname + ' HTTP/1.1' + '\\r\\n'\n",
    "    host = 'Host: ' + hostname + '\\r\\n'\n",
    "    conn_type = 'Connection: close' + '\\r\\n'\n",
    "    char_set = 'Accept-charset: utf-8' + '\\r\\n'\n",
    "\n",
    "    # Create HTTP request\n",
    "    http_req = (get + host + char_set + conn_type + '\\r\\n')\n",
    "\n",
    "    return http_req\n",
    "\n",
    "def add_http_field(msg, name, value):\n",
    "\n",
    "    try:\n",
    "        header_end = msg.index('\\r\\n\\r\\n') + len('\\r\\n')\n",
    "        old_header = msg[ :  header_end]\n",
    "        field = name + ': ' + value + '\\r\\n'\n",
    "        new_msg = old_header + field + '\\r\\n'\n",
    "        return new_msg\n",
    "\n",
    "    except ValueError as e:\n",
    "        print(\"Unable to add HTTP field:\", e)\n",
    "        return '-1'\n",
    "\n",
    "def get_http_field(msg, name, end_str):\n",
    "\n",
    "    try:\n",
    "        name_start = msg.index(name)\n",
    "        name_end = name_start + len(name)\n",
    "        field_end = name_end + msg[name_end : ].index(end_str)\n",
    "        value = msg[name_end : field_end]\n",
    "        return value\n",
    "\n",
    "    except ValueError as e:\n",
    "        print(\"HTTP field not found: \", e)\n",
    "        return -1"
   ]
  }
 ],
 "metadata": {
  "kernelspec": {
   "display_name": "Python 3",
   "language": "python",
   "name": "python3"
  },
  "language_info": {
   "codemirror_mode": {
    "name": "ipython",
    "version": 3
   },
   "file_extension": ".py",
   "mimetype": "text/x-python",
   "name": "python",
   "nbconvert_exporter": "python",
   "pygments_lexer": "ipython3",
   "version": "3.8.8"
  }
 },
 "nbformat": 4,
 "nbformat_minor": 5
}
